{
  "nbformat": 4,
  "nbformat_minor": 0,
  "metadata": {
    "colab": {
      "name": "밑바닥부터 시작하는 딥러닝 1-2",
      "provenance": [],
      "collapsed_sections": [],
      "authorship_tag": "ABX9TyMqBsWyASIiFkQuZ2Qw9K3R",
      "include_colab_link": true
    },
    "kernelspec": {
      "name": "python3",
      "display_name": "Python 3"
    },
    "language_info": {
      "name": "python"
    }
  },
  "cells": [
    {
      "cell_type": "markdown",
      "metadata": {
        "id": "view-in-github",
        "colab_type": "text"
      },
      "source": [
        "<a href=\"https://colab.research.google.com/github/Justion1234/Deep_Learning_From_Scratch_02/blob/main/%EB%B0%91%EB%B0%94%EB%8B%A5%EB%B6%80%ED%84%B0_%EC%8B%9C%EC%9E%91%ED%95%98%EB%8A%94_%EB%94%A5%EB%9F%AC%EB%8B%9D_1_2.ipynb\" target=\"_parent\"><img src=\"https://colab.research.google.com/assets/colab-badge.svg\" alt=\"Open In Colab\"/></a>"
      ]
    },
    {
      "cell_type": "markdown",
      "metadata": {
        "id": "4ZQuMCYSbH4u"
      },
      "source": [
        "# 퍼셉트론"
      ]
    },
    {
      "cell_type": "markdown",
      "metadata": {
        "id": "idkVW3pSbLUX"
      },
      "source": [
        "퍼셉트론이란? \n",
        "\n",
        "다수의 신호를 입력으로 받아 하나의 신호를 출력하는 것.\n",
        "\n",
        "실제 전류와 달리 퍼셉트론 신호는 흐른다/안 흐른다(1이나 0)의 두가지 값을 가진다.\n",
        "\n",
        "\n",
        "\n",
        "![퍼셉트론.jpg](data:image/jpeg;base64,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)\n",
        "\n",
        "\n",
        "위의 사진은 2개의 신호를 받은 퍼셉트론의 예이다.\n",
        "\n",
        "x1, x2 : 입력 신호\n",
        "\n",
        "y는 출력 신호\n",
        "\n",
        "w1, w2 : 가중치\n"
      ]
    },
    {
      "cell_type": "markdown",
      "metadata": {
        "id": "laFXztgNbv6u"
      },
      "source": [
        "뉴런에서 보내온 신호의 총합이 정해진 한계를 넘어설 때만 1을 출력(이를 '뉴런이 활성화한다'라고 표현)\n",
        "\n",
        "이 책에서 그 한계를 임계값이라하며, θ기호(세타)로 나타낸다.\n",
        "\n",
        "퍼셉트론 동작 원리 수식 :\n",
        "\n",
        "![퍼셉트론 수식.jpg](data:image/jpeg;base64,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)"
      ]
    },
    {
      "cell_type": "markdown",
      "metadata": {
        "id": "qHGP0vgwlnWi"
      },
      "source": [
        "퍼셉트론으로 AND, NAND, OR 논리 회로를 표현할 수 있다.\n",
        "\n",
        "가장 중요한 점은 퍼셉트론의 구조는 AND, NAND, OR 게이트 모두에서 똑같다. 다른 것은 매개변수(가중치와 임계값)의 값뿐이다.\n",
        "\n",
        "-------------------------------------------------------------------------------"
      ]
    },
    {
      "cell_type": "markdown",
      "metadata": {
        "id": "z3ZsV8DCl3qu"
      },
      "source": [
        "퍼셉트론 구현하기"
      ]
    },
    {
      "cell_type": "code",
      "metadata": {
        "colab": {
          "base_uri": "https://localhost:8080/"
        },
        "id": "pzrgO-jxbCLy",
        "outputId": "ffddf9f3-a998-45dd-fd0a-84e752d7f1c0"
      },
      "source": [
        "def AND(x1, x2):\n",
        "  w1, w2, theta = 0.5, 0.5, 0.7 #theta : 임계값\n",
        "  tmp = x1*w1 + x2*w2 #w1, w2 : 가중치\n",
        "  if tmp <= theta:\n",
        "    return 0\n",
        "  elif tmp > theta:\n",
        "    return 1\n",
        "\n",
        "\n",
        "AND(0, 0)\n",
        "AND(1, 0)\n",
        "AND(0, 1)\n",
        "AND(1, 1)"
      ],
      "execution_count": 1,
      "outputs": [
        {
          "output_type": "execute_result",
          "data": {
            "text/plain": [
              "1"
            ]
          },
          "metadata": {},
          "execution_count": 1
        }
      ]
    },
    {
      "cell_type": "markdown",
      "metadata": {
        "id": "PPFesbEkmn7J"
      },
      "source": [
        "위에서 구현한 AND 게이트는 직관적이고 알기 쉽지만, 신경망 학습을 위해 다른 방식으로 수정하고자한다. Θ 를 -b로 치환하면 퍼셉트론의 동작이 다음과 같은 식으로 됩니다.\n",
        "\n",
        "b = bias(편향)\n",
        "\n",
        "y = 0 (b+ w1*x1 + w2*x2  ≤ 0)\n",
        "\n",
        "y = 1 ( b+ w1*x1 + w2*x2  ≥ 0)"
      ]
    },
    {
      "cell_type": "code",
      "metadata": {
        "colab": {
          "base_uri": "https://localhost:8080/"
        },
        "id": "WzZ9xCCrlDqB",
        "outputId": "68b895f4-292b-4f62-9847-9ed933a5455b"
      },
      "source": [
        "import numpy as np\n",
        "x = np.array([0, 1])    #     입력\n",
        "w = np.array([0.5, 0.5])# 가중치\n",
        "b = -0.7                # 편향\n",
        "print(w * x)\n",
        "print(np.sum(w*x))\n",
        "print(np.sum(w*x) + b) #가중치와 편향을 도입해서 구한 식\n"
      ],
      "execution_count": 2,
      "outputs": [
        {
          "output_type": "stream",
          "name": "stdout",
          "text": [
            "[0.  0.5]\n",
            "0.5\n",
            "-0.19999999999999996\n"
          ]
        }
      ]
    },
    {
      "cell_type": "markdown",
      "metadata": {
        "id": "wBtRxFy-oB1n"
      },
      "source": [
        "가중치와 편향을 도입해서 AND 게이트 구현"
      ]
    },
    {
      "cell_type": "code",
      "metadata": {
        "id": "0B_uGr5QoFJd"
      },
      "source": [
        "def AND(x1, x2):\n",
        "  x = np.array([x1, x2])\n",
        "  w = np.array([0.5, 0.5])\n",
        "  b = -0.7\n",
        "  tmp = np.sum(w*x) + b #세타 대신 -bias(편향)을 넣어서 구현\n",
        "  if tmp <= 0:\n",
        "    return 0\n",
        "  else:\n",
        "    return 1"
      ],
      "execution_count": 3,
      "outputs": []
    },
    {
      "cell_type": "markdown",
      "metadata": {
        "id": "HKUukpHNZQ8z"
      },
      "source": [
        "가중치와 편향을 도입해서 NAND게이트와 OR게이트 구현"
      ]
    },
    {
      "cell_type": "code",
      "metadata": {
        "id": "SCkueioKaBy2"
      },
      "source": [
        "def NAND(x1, x2):\n",
        "  x = np.array([x1, x2])\n",
        "  w = np.array([-0.5, -0.5])\n",
        "  b = 0.7\n",
        "  tmp = np.sum(w*x) + b\n",
        "\n",
        "  if tmp <= 0:\n",
        "    return 0\n",
        "  else:\n",
        "    return 1\n",
        "\n",
        "def OR(x1, x2):\n",
        "  x = np.array([x1, x2])\n",
        "  w = np.array([0.5, 0.5])\n",
        "  b = -0.2\n",
        "  tmp = np.sum(w*x) + b\n",
        "  if tmp <= 0:\n",
        "    return 0\n",
        "  "
      ],
      "execution_count": 4,
      "outputs": []
    },
    {
      "cell_type": "markdown",
      "metadata": {
        "id": "keMvwXRMYixE"
      },
      "source": [
        "다층 퍼셉트론으로 XOR 게이트 구현하기"
      ]
    },
    {
      "cell_type": "code",
      "metadata": {
        "id": "h5jAli4OYo_a",
        "colab": {
          "base_uri": "https://localhost:8080/"
        },
        "outputId": "8cf032d4-afa9-47db-c3cc-b63f4b324528"
      },
      "source": [
        "def XOR(x1, x2):\n",
        "  s1 = NAND(x1, x2)\n",
        "  s2 = OR(x1, x2)\n",
        "  y = AND(x1, x2)\n",
        "  return y\n",
        "\n",
        "XOR(0,0)\n",
        "XOR(1,0)\n",
        "XOR(0,1)\n",
        "XOR(1,1)"
      ],
      "execution_count": 5,
      "outputs": [
        {
          "output_type": "execute_result",
          "data": {
            "text/plain": [
              "1"
            ]
          },
          "metadata": {},
          "execution_count": 5
        }
      ]
    }
  ]
}